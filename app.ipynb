{
 "cells": [
  {
   "cell_type": "code",
   "execution_count": null,
   "id": "af38ed11",
   "metadata": {},
   "outputs": [],
   "source": []
  },
  {
   "cell_type": "markdown",
   "id": "c2ddafab",
   "metadata": {},
   "source": [
    "## topico 1\n",
    "\n",
    "Isso é composto por\n",
    "\n",
    "1. xxfsfs\n",
    "2. dsdnsjdns"
   ]
  },
  {
   "cell_type": "code",
   "execution_count": null,
   "id": "7237a898",
   "metadata": {},
   "outputs": [],
   "source": [
    "from sklearn.datasets import load_breast_cancer\n",
    "cancer = load_breast_cancer()\n",
    "\n",
    "X = cancer['data']\n",
    "y = cancer['target']\n",
    "\n",
    "from sklearn.model_selection import train_test_split\n",
    "X_train, X_test, y_train, y_test = train_test_split(X, y)\n",
    "\n",
    "\n",
    "from sklearn.preprocessing import StandardScaler\n",
    "scaler = StandardScaler()\n",
    "# Fit only to the training data\n",
    "scaler.fit(X_train)\n",
    "\n",
    "\n",
    "# Now apply the transformations to the data:\n",
    "X_train = scaler.transform(X_train)\n",
    "X_test = scaler.transform(X_test)\n",
    "\n",
    "\n",
    "from sklearn.neural_network import MLPClassifier\n",
    "mlp = MLPClassifier(hidden_layer_sizes=(30,30,30))\n",
    "mlp.fit(X_train,y_train)\n",
    "\n",
    "'''\n",
    "MLPClassifier(activation='relu', alpha=0.0001, batch_size='auto', beta_1=0.9,\n",
    "       beta_2=0.999, early_stopping=False, epsilon=1e-08,\n",
    "       hidden_layer_sizes=(30, 30, 30), learning_rate='constant',\n",
    "       learning_rate_init=0.001, max_iter=200, momentum=0.9,\n",
    "       nesterovs_momentum=True, power_t=0.5, random_state=None,\n",
    "       shuffle=True, solver='adam', tol=0.0001, validation_fraction=0.1,\n",
    "       verbose=False, warm_start=False)\n",
    "'''\n",
    "\n",
    "predictions = mlp.predict(X_test)\n",
    "from sklearn.metrics import classification_report,confusion_matrix\n",
    "print(confusion_matrix(y_test,predictions))\n",
    "print(classification_report(y_test,predictions))"
   ]
  },
  {
   "cell_type": "code",
   "execution_count": 1,
   "id": "d00534f8",
   "metadata": {},
   "outputs": [],
   "source": [
    "import numpy as np\n",
    "import matplotlib.pyplot as plt "
   ]
  },
  {
   "cell_type": "code",
   "execution_count": 2,
   "id": "263ac606",
   "metadata": {},
   "outputs": [],
   "source": [
    "class Neural_Network(object):\n",
    "  def __init__(self, layers):\n",
    "  #parameters\n",
    "    self.inputSize = layers[0]\n",
    "    self.hiddenSize = layers[1]\n",
    "    self.outputSize = layers[2]\n",
    "\n",
    "  #weights\n",
    "    self.W1 = np.random.randn(self.inputSize, self.hiddenSize) # (3x2) weight matrix from input to hidden layer\n",
    "    self.W2 = np.random.randn(self.hiddenSize, self.outputSize) # (3x1) weight matrix from hidden to output layer\n",
    "\n",
    "  def forward(self, X):\n",
    "    #forward propagation through our network\n",
    "    self.z = np.dot(X, self.W1) # dot product of X (input) and first set of 3x2 weights\n",
    "    self.z2 = self.sigmoid(self.z) # activation function\n",
    "    self.z3 = np.dot(self.z2, self.W2) # dot product of hidden layer (z2) and second set of 3x1 weights\n",
    "    o = self.sigmoid(self.z3) # final activation function\n",
    "    return o\n",
    "\n",
    "  def sigmoid(self, s):\n",
    "    # activation function\n",
    "    return 1/(1+np.exp(-s))\n",
    "\n",
    "  def sigmoidPrime(self, s):\n",
    "    #derivative of sigmoid\n",
    "    return s * (1 - s)\n",
    "\n",
    "  def backward(self, X, y, o):\n",
    "    # backward propagate through the network\n",
    "    self.o_error = y - o # error in output\n",
    "    self.o_delta = self.o_error*self.sigmoidPrime(o) # applying derivative of sigmoid to error\n",
    "\n",
    "    self.z2_error = self.o_delta.dot(self.W2.T) # z2 error: how much our hidden layer weights contributed to output error\n",
    "    self.z2_delta = self.z2_error*self.sigmoidPrime(self.z2) # applying derivative of sigmoid to z2 error\n",
    "\n",
    "    self.W1 += X.T.dot(self.z2_delta) # adjusting first set (input --> hidden) weights\n",
    "    self.W2 += self.z2.T.dot(self.o_delta) # adjusting second set (hidden --> output) weights\n",
    "\n",
    "  def train(self, X, y):\n",
    "    o = self.forward(X)\n",
    "    self.backward(X, y, o)\n",
    "\n",
    "  def saveWeights(self):\n",
    "    np.savetxt(\"w1.txt\", self.W1, fmt=\"%s\")\n",
    "    np.savetxt(\"w2.txt\", self.W2, fmt=\"%s\")\n",
    "\n",
    "  def predict(self, value):\n",
    "    print(\"Predicted data based on trained weights: \")\n",
    "    print(\"Input (scaled): \\n\" + str(value))\n",
    "    print(\"Output: \\n\" + str(self.forward(value)))"
   ]
  },
  {
   "cell_type": "code",
   "execution_count": 3,
   "id": "4e28a61e",
   "metadata": {},
   "outputs": [],
   "source": [
    "# X = (hours studying, hours sleeping), y = score on test\n",
    "xAll = np.array(([2, 9, 7], [1, 5, 8], [3, 6, 9], [5, 10, 15]), dtype=float) # input data\n",
    "y = np.array(([5], [10], [15]), dtype=float) # output"
   ]
  },
  {
   "cell_type": "code",
   "execution_count": 4,
   "id": "96400240",
   "metadata": {},
   "outputs": [],
   "source": [
    "# scale units\n",
    "xAll = xAll/np.amax(xAll, axis=0) # scaling input data\n",
    "y = y/100 # scaling output data (max test score is 100)\n",
    "\n",
    "# split data\n",
    "X = np.split(xAll, [3])[0] # training data\n",
    "xPredicted = np.split(xAll, [3])[1] # testing data"
   ]
  },
  {
   "cell_type": "code",
   "execution_count": 5,
   "id": "df04c006",
   "metadata": {},
   "outputs": [
    {
     "data": {
      "text/plain": [
       "[array([[0.4       , 0.9       , 0.46666667],\n",
       "        [0.2       , 0.5       , 0.53333333],\n",
       "        [0.6       , 0.6       , 0.6       ]]),\n",
       " array([[1., 1., 1.]])]"
      ]
     },
     "execution_count": 5,
     "metadata": {},
     "output_type": "execute_result"
    }
   ],
   "source": [
    "np.split(xAll, [3])"
   ]
  },
  {
   "cell_type": "code",
   "execution_count": 6,
   "id": "5038c8e4",
   "metadata": {},
   "outputs": [
    {
     "data": {
      "text/plain": [
       "<Figure size 432x288 with 0 Axes>"
      ]
     },
     "metadata": {},
     "output_type": "display_data"
    },
    {
     "name": "stdout",
     "output_type": "stream",
     "text": [
      "# 49\n",
      "\n",
      "Input (scaled): \n",
      "[[0.4        0.9        0.46666667]\n",
      " [0.2        0.5        0.53333333]\n",
      " [0.6        0.6        0.6       ]]\n",
      "Actual Output: \n",
      "[[0.05]\n",
      " [0.1 ]\n",
      " [0.15]]\n",
      "Predicted Output: \n",
      "[[0.09454569]\n",
      " [0.09646814]\n",
      " [0.12311099]]\n",
      "Loss: \n",
      "0.0009066037906652374\n",
      "\n",
      "\n"
     ]
    },
    {
     "data": {
      "image/png": "[encoded data removed]",
      "text/plain": [
       "<Figure size 432x288 with 1 Axes>"
      ]
     },
     "metadata": {
      "needs_background": "light"
     },
     "output_type": "display_data"
    }
   ],
   "source": [
    "from IPython import display\n",
    "\n",
    "x_vec = [] # array to store iteration count\n",
    "y_data = [] # array to store loss values\n",
    "plt.show()\n",
    "NN = Neural_Network([3,10,1])\n",
    "\n",
    "\n",
    "for i in range(50): # trains the NN 1,000 times\n",
    "  display.clear_output(wait=True)\n",
    "  display.display(plt.gcf())\n",
    "    \n",
    "  print(\"# \" + str(i) + \"\\n\")\n",
    "  print(\"Input (scaled): \\n\" + str(X))\n",
    "  print(\"Actual Output: \\n\" + str(y))\n",
    "  print(\"Predicted Output: \\n\" + str(NN.forward(X)))\n",
    "  loss = str(np.mean(np.square(y - NN.forward(X))))\n",
    "  accuracy = 100 - float(loss)\n",
    "  print(\"Loss: \\n\" +  loss ) # mean sum squared loss\n",
    "  print(\"\\n\")\n",
    "  \n",
    "  x_vec.append(i)\n",
    "  y_data.append(np.round(float(loss), 6))\n",
    "  plt.cla()\n",
    "  plt.title(\"Loss over Iterations\")\n",
    "  plt.xlabel(\"Iterations\")\n",
    "  plt.ylabel(\"Loss\")\n",
    "  plt.legend(['Erro'], fontsize=14)\n",
    "  plt.plot(x_vec, y_data, linestyle='--', marker='o', color = 'red', markersize = 4)\n",
    "  plt.pause(.001)\n",
    "  NN.train(X, y)"
   ]
  },
  {
   "cell_type": "code",
   "execution_count": 7,
   "id": "edeb85f2",
   "metadata": {},
   "outputs": [
    {
     "data": {
      "text/plain": [
       "[<matplotlib.lines.Line2D at 0x7fc74daefd00>]"
      ]
     },
     "execution_count": 7,
     "metadata": {},
     "output_type": "execute_result"
    },
    {
     "data": {
      "image/png": "[encoded data removed]",
      "text/plain": [
       "<Figure size 432x288 with 1 Axes>"
      ]
     },
     "metadata": {
      "needs_background": "light"
     },
     "output_type": "display_data"
    }
   ],
   "source": [
    "plt.figure()\n",
    "plt.plot(y, 'o')\n",
    "plt.plot(NN.forward(X), 'x')"
   ]
  },
  {
   "cell_type": "code",
   "execution_count": null,
   "id": "d403583f",
   "metadata": {},
   "outputs": [],
   "source": [
    "NN.saveWeights()\n",
    "NN.predict(xPredicted)"
   ]
  },
  {
   "cell_type": "code",
   "execution_count": null,
   "id": "226a9f68",
   "metadata": {},
   "outputs": [],
   "source": []
  }
 ],
 "metadata": {
  "kernelspec": {
   "display_name": "Python 3",
   "language": "python",
   "name": "python3"
  },
  "language_info": {
   "codemirror_mode": {
    "name": "ipython",
    "version": 3
   },
   "file_extension": ".py",
   "mimetype": "text/x-python",
   "name": "python",
   "nbconvert_exporter": "python",
   "pygments_lexer": "ipython3",
   "version": "3.9.2"
  }
 },
 "nbformat": 4,
 "nbformat_minor": 5
}
