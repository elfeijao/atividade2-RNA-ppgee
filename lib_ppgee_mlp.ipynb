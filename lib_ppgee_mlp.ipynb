{
 "cells": [
  {
   "cell_type": "code",
   "execution_count": null,
   "id": "0c22115a",
   "metadata": {},
   "outputs": [],
   "source": [
    "import numpy as np\n",
    "import matplotlib.pyplot as plt\n",
    "plt.style.use('grayscale')"
   ]
  },
  {
   "cell_type": "code",
   "execution_count": null,
   "id": "d25392a4",
   "metadata": {},
   "outputs": [],
   "source": [
    "class Neural_Network(object):\n",
    "  def __init__(self, layers, epochs=200, eta=0.1):\n",
    "    #parameters\n",
    "    self.epochs = epochs\n",
    "    self.eta = eta\n",
    "    self.rms = []\n",
    "    \n",
    "    self.inputSize = layers[0]\n",
    "    self.hiddenSize = layers[1]\n",
    "    self.outputSize = layers[2]\n",
    "\n",
    "    #weights\n",
    "    self.W1 = np.random.randn(self.inputSize, self.hiddenSize) # (30x30) matriz de peso da camada de entrada para a oculta\n",
    "    self.W2 = np.random.randn(self.hiddenSize, self.outputSize) # (30x1) matriz de peso da camada oculta para a saída\n",
    "\n",
    "  def forward(self, X):\n",
    "    #forward propagation through our network\n",
    "    self.z = np.dot(X, self.W1) #produto escalar de X (entrada) e primeiro conjunto de pesos 30x30\n",
    "    self.z2 = self.sigmoid(self.z) # Função de Ativação\n",
    "    self.z3 = np.dot(self.z2, self.W2) #produto escalar da camada oculta (z2) e segundo conjunto de pesos 30x1\n",
    "    o = self.sigmoid(self.z3) # Função de Ativação Final\n",
    "    return o\n",
    "\n",
    "  def sigmoid(self, s):\n",
    "    # Função de Ativação (Sigmoide)\n",
    "    return 1/(1+np.exp(-s))\n",
    "\n",
    "  def Dsigmoid(self, s):\n",
    "    # Derivada da Sigmoide\n",
    "    return s * (1 - s)\n",
    "\n",
    "  def backward(self, X, y, o):\n",
    "    # backward propagate through the network\n",
    "    self.o_error = y - o # Erro na saída\n",
    "    self.o_delta = self.o_error*self.Dsigmoid(o) # aplicando a derivada de sigmóide ao erro\n",
    "\n",
    "    self.z2_error = self.o_delta.dot(self.W2.T) # z2 error: how much our hidden layer weights contributed to output error\n",
    "    self.z2_delta = self.z2_error*self.Dsigmoid(self.z2) # applying derivative of sigmoid to z2 error\n",
    "\n",
    "    self.W1 += self.eta*X.T.dot(self.z2_delta) # Atualizando o primeiro conjunto de pesos (entrada --> oculta)\n",
    "    self.W2 += self.eta*self.z2.T.dot(self.o_delta) # Atualizando o segundo conjunto de pesos (oculta --> saída)\n",
    "\n",
    "  def train(self, X, y):\n",
    "    for i in range(self.epochs):\n",
    "        o = self.forward(X)\n",
    "        self.backward(X, y, o)\n",
    "        self.rms.append(np.mean(np.square(y - self.forward(X))))\n",
    "        \n",
    "  def get_rms(self):\n",
    "    return self.rms\n",
    "\n",
    "  def saveWeights(self):\n",
    "    np.savetxt(\"w1.txt\", self.W1, fmt=\"%s\")\n",
    "    np.savetxt(\"w2.txt\", self.W2, fmt=\"%s\")\n",
    "\n",
    "  def predict(self, value):\n",
    "    print(\"Predicted data based on trained weights: \")\n",
    "    print(\"Input (scaled): \\n\" + str(value))\n",
    "    print(\"Output: \\n\" + str(self.forward(value)))"
   ]
  }
 ],
 "metadata": {
  "kernelspec": {
   "display_name": "Python 3",
   "language": "python",
   "name": "python3"
  },
  "language_info": {
   "codemirror_mode": {
    "name": "ipython",
    "version": 3
   },
   "file_extension": ".py",
   "mimetype": "text/x-python",
   "name": "python",
   "nbconvert_exporter": "python",
   "pygments_lexer": "ipython3",
   "version": "3.9.4"
  }
 },
 "nbformat": 4,
 "nbformat_minor": 5
}
