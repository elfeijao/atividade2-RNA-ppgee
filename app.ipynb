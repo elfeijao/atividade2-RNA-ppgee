{
 "cells": [
  {
   "cell_type": "markdown",
   "id": "8813b654",
   "metadata": {},
   "source": [
    "\n",
    "### Universidade Federal do Pará\n",
    "### Programa pós Graduação Engenharia Elétrica\n",
    "### Redes Neurais Artificiais\n",
    "\n",
    "\n",
    "**Professora:** Prof. Dra. Adriana Castro\n",
    "\n",
    "**Discentes:** Luan Santa (201900470003), Romário Silva (202000470023)"
   ]
  },
  {
   "cell_type": "markdown",
   "id": "44520f98",
   "metadata": {},
   "source": [
    "## TODO\n",
    "\n",
    " - [ ] Adicionar gráfico de treinamento x saída desejada da rede mlp\n",
    " - [X] Coletar informações sobre o dataset: Adicionado na seção\n",
    " - [X] np.random.randn - verificar se distribuição é normal: https://numpy.org/doc/stable/reference/random/generated/numpy.random.randn.html\n",
    " - [X] train_test_split -  verificar a taxa de separação: por padrão, a função define 25% dos dados para teste. https://scikit-learn.org/stable/modules/generated/sklearn.model_selection.train_test_split.html\n",
    " - [ ] batch_size - verificar se é valido = 1\n",
    " - [ ] Simplificar métricas coletadas"
   ]
  },
  {
   "cell_type": "markdown",
   "id": "0dc20b2b",
   "metadata": {},
   "source": [
    "Ambiente de Desenvolvimento\n",
    "---\n",
    "\n",
    "Aqui é feita a configuração do ambiente de desenvolvimento. Onde os warning estão sendo desativados."
   ]
  },
  {
   "cell_type": "code",
   "execution_count": 1,
   "id": "221167d9",
   "metadata": {},
   "outputs": [
    {
     "name": "stdout",
     "output_type": "stream",
     "text": [
      "Requirement already satisfied: ipynb in c:\\users\\eniac\\appdata\\local\\programs\\python\\python39\\lib\\site-packages (0.5.1)\n"
     ]
    }
   ],
   "source": [
    "!pip install ipynb\n",
    "import warnings\n",
    "warnings.filterwarnings('ignore')\n",
    "from IPython import display"
   ]
  },
  {
   "cell_type": "markdown",
   "id": "828a5303",
   "metadata": {},
   "source": [
    "## Aplicação\n",
    "\n",
    "Todas as bibliotecas necessárias a aplicação serão carregadas no sistema."
   ]
  },
  {
   "cell_type": "code",
   "execution_count": 2,
   "id": "af38ed11",
   "metadata": {},
   "outputs": [],
   "source": [
    "# dataset\n",
    "from sklearn.datasets import load_breast_cancer\n",
    "\n",
    "# preprocessamento\n",
    "from sklearn.model_selection import train_test_split\n",
    "from sklearn.preprocessing import StandardScaler\n",
    "\n",
    "# mlps\n",
    "from sklearn.neural_network import MLPClassifier\n",
    "from ipynb.fs.full.lib_ppgee_mlp import *\n",
    "\n",
    "# Calculo das métricas\n",
    "from sklearn.metrics import classification_report,confusion_matrix\n",
    "from sklearn.metrics import plot_confusion_matrix"
   ]
  },
  {
   "cell_type": "markdown",
   "id": "5e927662",
   "metadata": {},
   "source": [
    "## Carregamento\n",
    "\n",
    "Os dados utilizado no estudo corresponde ao conjunto de dados utilizados para classificação de câncer de mama no estado de Wisconsin. \n",
    "\n",
    "- Classes: 2\n",
    "\n",
    "- Amostras por classe: 212(Maligno), 357(Benigno)\n",
    "\n",
    "- Total de Amostras: 569\n",
    "\n",
    "- Atributos: 30\n",
    "\n",
    "- Valores: Real e positivo\n",
    "\n",
    "Disponível no repositório UCI: https://archive.ics.uci.edu/ml/datasets/Breast+Cancer+Wisconsin+(Diagnostic)"
   ]
  },
  {
   "cell_type": "code",
   "execution_count": 3,
   "id": "ff6ab34e",
   "metadata": {},
   "outputs": [],
   "source": [
    "# carrega o dataset\n",
    "cancer = load_breast_cancer()\n",
    "\n",
    "# separa entre entrada(x) e saida(y)\n",
    "X = cancer['data']\n",
    "y = cancer['target']\n",
    "\n",
    "# separa em treinamento e teste\n",
    "X_train, X_test, y_train, y_test = train_test_split(X, y)"
   ]
  },
  {
   "cell_type": "markdown",
   "id": "5b0b252e",
   "metadata": {},
   "source": [
    "## Pré-processamento\n",
    "\n",
    "Nessa etapa foi realiza a padronização de um conjunto de dados utilizado."
   ]
  },
  {
   "cell_type": "code",
   "execution_count": 4,
   "id": "b543d675",
   "metadata": {},
   "outputs": [],
   "source": [
    "# Cria um padronizador\n",
    "scaler = StandardScaler()\n",
    "\n",
    "# Fit only to the training data\n",
    "scaler.fit(X_train)\n",
    "\n",
    "# Now apply the transformations to the data:\n",
    "X_train = scaler.transform(X_train)\n",
    "X_test = scaler.transform(X_test)\n",
    "\n"
   ]
  },
  {
   "cell_type": "markdown",
   "id": "2c41bab5",
   "metadata": {},
   "source": [
    "## Inicialização das Redes MLP (Scikit learn e PPGEE)"
   ]
  },
  {
   "cell_type": "markdown",
   "id": "e424f130",
   "metadata": {},
   "source": [
    "Rede Neural - Scikit Learn"
   ]
  },
  {
   "cell_type": "code",
   "execution_count": 5,
   "id": "7237a898",
   "metadata": {},
   "outputs": [
    {
     "data": {
      "text/plain": [
       "MLPClassifier(activation='logistic', batch_size=1, hidden_layer_sizes=30)"
      ]
     },
     "execution_count": 5,
     "metadata": {},
     "output_type": "execute_result"
    }
   ],
   "source": [
    "skl_mlp = MLPClassifier(\n",
    "    activation='logistic', \n",
    "    learning_rate_init=0.001, \n",
    "    hidden_layer_sizes=(30),\n",
    "    batch_size=1)\n",
    "skl_mlp.fit(X_train,y_train)\n"
   ]
  },
  {
   "cell_type": "markdown",
   "id": "b3da8113",
   "metadata": {},
   "source": [
    "Rede Neural - PPGEE"
   ]
  },
  {
   "cell_type": "code",
   "execution_count": 6,
   "id": "5038c8e4",
   "metadata": {},
   "outputs": [],
   "source": [
    "# Adaptando a entrada e saída a nossa biblioteca\n",
    "X = X_train\n",
    "y = np.array([[c] for c in y_train])\n",
    "\n",
    "# Configuracao da rede\n",
    "layers = [30,30,1]\n",
    "epochs = 1000        \n",
    "eta = 0.001\n",
    "\n",
    "# Criacao do objeto e treinamento\n",
    "ppgee_mlp = Neural_Network(layers=layers, epochs=epochs, eta=eta)\n",
    "ppgee_mlp.train(X, y)"
   ]
  },
  {
   "cell_type": "markdown",
   "id": "fe223245",
   "metadata": {},
   "source": [
    "## Resultados\n",
    "\n"
   ]
  },
  {
   "cell_type": "code",
   "execution_count": 7,
   "id": "7586726a",
   "metadata": {},
   "outputs": [
    {
     "data": {
      "text/plain": [
       "<matplotlib.legend.Legend at 0x194f4fa96a0>"
      ]
     },
     "execution_count": 7,
     "metadata": {},
     "output_type": "execute_result"
    },
    {
     "data": {
      "image/png": "[encoded data removed]",
      "text/plain": [
       "<Figure size 1152x216 with 2 Axes>"
      ]
     },
     "metadata": {},
     "output_type": "display_data"
    }
   ],
   "source": [
    "fig, ax = plt.subplots(1, 2, figsize=(16,3))\n",
    "\n",
    "ax[0].set_title(f\"Erro quadrático Médio durantes as {epochs} Épocas - PPGEE\")\n",
    "ax[0].set_xlabel(\"Épocas\")\n",
    "ax[0].set_ylabel(\"RMS\")\n",
    "ax[0].plot(ppgee_mlp.get_rms(), linestyle='--', marker='o', markersize = 4)\n",
    "ax[0].legend(['RMS'])\n",
    "\n",
    "ax[1].set_title(f\"Erro quadrático Médio durantes as {epochs} Épocas - Scikit learn\")\n",
    "ax[1].set_xlabel(\"Épocas\")\n",
    "ax[1].set_ylabel(\"RMS\")\n",
    "ax[1].plot(skl_mlp.loss_curve_, linestyle='--', marker='o', markersize = 4)\n",
    "ax[1].legend(['RMS'])"
   ]
  },
  {
   "cell_type": "code",
   "execution_count": 8,
   "id": "edeb85f2",
   "metadata": {},
   "outputs": [
    {
     "data": {
      "text/plain": [
       "<matplotlib.legend.Legend at 0x194f60f50a0>"
      ]
     },
     "execution_count": 8,
     "metadata": {},
     "output_type": "execute_result"
    },
    {
     "data": {
      "image/png": "[encoded data removed]",
      "text/plain": [
       "<Figure size 1152x216 with 2 Axes>"
      ]
     },
     "metadata": {},
     "output_type": "display_data"
    }
   ],
   "source": [
    "ppgee_predictions = np.round(ppgee_mlp.forward(X_test))\n",
    "skl_predictions = skl_mlp.predict(X_test)\n",
    "\n",
    "fig, ax = plt.subplots(1, 2, figsize=(16,3))\n",
    "ax[0].plot(y_test, 'o', label=\"saída original\")\n",
    "ax[0].set_title(\"Resposta da Rede MLP - PPGEE\")\n",
    "ax[0].set_xlabel(\"Épocas\")\n",
    "ax[0].set_ylabel(\"Saída\")\n",
    "ax[0].plot(ppgee_predictions, 'x',  label='saída da rede')\n",
    "ax[0].legend()\n",
    "\n",
    "ax[1].plot(y_test, 'o', label=\"saída original\")\n",
    "ax[1].set_title(\"Resposta da Rede MLP - Scikit Learn\")\n",
    "ax[1].set_xlabel(\"Épocas\")\n",
    "ax[1].set_ylabel(\"Saída\")\n",
    "ax[1].plot(skl_predictions, 'x',  label='saída da rede')\n",
    "ax[1].legend()"
   ]
  },
  {
   "cell_type": "code",
   "execution_count": 9,
   "id": "90ff06ea",
   "metadata": {},
   "outputs": [
    {
     "name": "stdout",
     "output_type": "stream",
     "text": [
      "[[47  2]\n",
      " [ 4 90]]\n",
      "              precision    recall  f1-score   support\n",
      "\n",
      "           0       0.92      0.96      0.94        49\n",
      "           1       0.98      0.96      0.97        94\n",
      "\n",
      "    accuracy                           0.96       143\n",
      "   macro avg       0.95      0.96      0.95       143\n",
      "weighted avg       0.96      0.96      0.96       143\n",
      "\n"
     ]
    }
   ],
   "source": [
    "print(confusion_matrix(y_test,skl_predictions))\n",
    "print(classification_report(y_test,skl_predictions))"
   ]
  },
  {
   "cell_type": "code",
   "execution_count": 10,
   "id": "ce83db0d",
   "metadata": {},
   "outputs": [
    {
     "name": "stdout",
     "output_type": "stream",
     "text": [
      "[[47  2]\n",
      " [ 3 91]]\n",
      "              precision    recall  f1-score   support\n",
      "\n",
      "           0       0.94      0.96      0.95        49\n",
      "           1       0.98      0.97      0.97        94\n",
      "\n",
      "    accuracy                           0.97       143\n",
      "   macro avg       0.96      0.96      0.96       143\n",
      "weighted avg       0.97      0.97      0.97       143\n",
      "\n"
     ]
    }
   ],
   "source": [
    "print(confusion_matrix(y_test,ppgee_predictions))\n",
    "print(classification_report(y_test,ppgee_predictions))"
   ]
  },
  {
   "cell_type": "markdown",
   "id": "702f729e",
   "metadata": {},
   "source": [
    "## Pesos da Rede\n",
    "\n",
    "Por fim, os pesos atualizados são salvos em dois arquivos:\n",
    "\n",
    "- Entrada --> Oculta: w1.txt\n",
    "\n",
    "- Oculta --> Saída: w2.txt"
   ]
  },
  {
   "cell_type": "code",
   "execution_count": 11,
   "id": "d403583f",
   "metadata": {},
   "outputs": [],
   "source": [
    "ppgee_mlp.saveWeights()"
   ]
  },
  {
   "cell_type": "code",
   "execution_count": null,
   "id": "655cf15f",
   "metadata": {},
   "outputs": [],
   "source": []
  },
  {
   "cell_type": "code",
   "execution_count": null,
   "id": "a52c12a2",
   "metadata": {},
   "outputs": [],
   "source": []
  }
 ],
 "metadata": {
  "kernelspec": {
   "display_name": "Python 3",
   "language": "python",
   "name": "python3"
  },
  "language_info": {
   "codemirror_mode": {
    "name": "ipython",
    "version": 3
   },
   "file_extension": ".py",
   "mimetype": "text/x-python",
   "name": "python",
   "nbconvert_exporter": "python",
   "pygments_lexer": "ipython3",
   "version": "3.9.4"
  }
 },
 "nbformat": 4,
 "nbformat_minor": 5
}
