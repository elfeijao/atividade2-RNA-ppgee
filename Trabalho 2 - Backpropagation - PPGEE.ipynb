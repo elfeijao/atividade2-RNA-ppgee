{
 "cells": [
  {
   "cell_type": "markdown",
   "id": "51ec0627",
   "metadata": {},
   "source": [
    "**Universidade Federal do Pará**\n",
    "\n",
    "**Programa pós Graduação Engenharia Elétrica**\n",
    "\n",
    "**Redes Neurais Artificiais**\n",
    "\n",
    "\n",
    "**Professora:** Prof. Dra. Adriana Castro\n",
    "\n",
    "**Discentes:** Luan Santa (201900470003), Romário Silva (202000470023)"
   ]
  },
  {
   "cell_type": "markdown",
   "id": "2ca582ac",
   "metadata": {},
   "source": [
    "Trabalho 2 - Backpropagation - PPGEE\n",
    "===\n",
    "\n",
    "## Descrição\n",
    "\n",
    "- [x] Implementar o algoritmo Backpropagation padrão em qualquer linguagem.\n",
    "- [x] Apresentar gráfico de evolução do erro médio quadrático ao longo das iterações/épocas\n",
    "- [x] Apresentar gráfico no final de treinamento com saída desejada versus saída da rede neural.\n",
    "- [x] Algoritmo deve possibilitar variar número de neurônios na camada escondida (usar apenas uma camada escondida)\n",
    "- [x] Possibilidade de verificar valores dos pesos sinápticos após finalização do treinamento.\n",
    "- [x] No dia da entrega do trabalho a equipe deverá apresentar o algoritmo funcionando(via reunião no Teams),sendo que algumas perguntas à respeito do algoritmo serão direcionadas aos alunos.\n",
    "- [x] Deverá ser entregue um relatório com código do algoritmo e resultados de treinamento para um caso de aplicação simples escolhido pela equipe."
   ]
  },
  {
   "cell_type": "markdown",
   "id": "10b20859",
   "metadata": {},
   "source": [
    "Relatório\n",
    "===\n",
    "\n",
    "Neste relatório consta o código funcional da rede neural multi layer perceptron, de uma única camada intermediária, desenvolvido para a disciplina de redes neurais artificiais como segundo método avaliativo. Assim como, a comparação entre a biblioteca de rede MLP desenvolvida e uma biblioteca utilizada no ambiente de negócios (scikit-learn).\n",
    "\n",
    "\n",
    "Ambiente de Desenvolvimento\n",
    "---\n",
    "\n",
    "Aqui é feita a configuração do ambiente de desenvolvimento Jupyter notebook. Onde as dependências são instaladas e os *warning* estão sendo desativados."
   ]
  },
  {
   "cell_type": "code",
   "execution_count": 1,
   "id": "4ce71d02",
   "metadata": {},
   "outputs": [],
   "source": [
    "!pip install ipynb > /dev/null\n",
    "import warnings\n",
    "warnings.filterwarnings('ignore')"
   ]
  },
  {
   "cell_type": "markdown",
   "id": "f83fd9c4",
   "metadata": {},
   "source": [
    "## Aplicação\n",
    "\n",
    "Esta aplicação consiste na coleta do dataset, pré processamento dos dados (padronização), aplicação de duas redes neurais MLP e apresentação dos resultados.\n",
    "\n",
    "### Cabeçalho\n",
    "\n",
    "Todas as bibliotecas necessárias a aplicação serão carregadas no sistema."
   ]
  },
  {
   "cell_type": "code",
   "execution_count": 2,
   "id": "4915f83d",
   "metadata": {},
   "outputs": [],
   "source": [
    "# dataset\n",
    "from sklearn.datasets import load_breast_cancer\n",
    "\n",
    "# preprocessamento\n",
    "from sklearn.model_selection import train_test_split\n",
    "from sklearn.preprocessing import StandardScaler\n",
    "\n",
    "# mlps\n",
    "from sklearn.neural_network import MLPClassifier\n",
    "from ipynb.fs.full.lib_ppgee_mlp import *\n",
    "\n",
    "# Calculo das métricas avaliativas\n",
    "from sklearn.metrics import confusion_matrix\n",
    "from sklearn.metrics import accuracy_score, precision_score, f1_score"
   ]
  },
  {
   "cell_type": "markdown",
   "id": "8eef1eb7",
   "metadata": {},
   "source": [
    "### Carregamento do dataset\n",
    "\n",
    "Os dados utilizado no estudo corresponde ao conjunto de dados utilizados para classificação de câncer de mama no estado de Wisconsin. \n",
    "\n",
    "- Classes: 2\n",
    "- Amostras por classe: 212(Maligno), 357(Benigno)\n",
    "- Total de Amostras: 569\n",
    "- Atributos: 30\n",
    "- Valores: Real e positivo\n",
    "\n",
    "Disponível no repositório UCI: [link](https://archive.ics.uci.edu/ml/datasets/Breast+Cancer+Wisconsin+(Diagnostic))"
   ]
  },
  {
   "cell_type": "markdown",
   "id": "ee481eb1",
   "metadata": {},
   "source": [
    "O dataset será separado em treinamento e teste, onde o 75\\% será para treinamento e o restante para teste."
   ]
  },
  {
   "cell_type": "code",
   "execution_count": 3,
   "id": "c0dde036",
   "metadata": {},
   "outputs": [],
   "source": [
    "# carrega o dataset\n",
    "cancer = load_breast_cancer()\n",
    "\n",
    "# separa entre entrada(x) e saida(y)\n",
    "X = cancer['data']\n",
    "y = cancer['target']\n",
    "\n",
    "# separa em treinamento e teste\n",
    "X_train, X_test, y_train, y_test = train_test_split(X, y)"
   ]
  },
  {
   "cell_type": "markdown",
   "id": "898c4dda",
   "metadata": {},
   "source": [
    "### Pré-processamento\n",
    "\n",
    "Nessa etapa é realizada a padronização dos dados utilizando o *StandardScaler*, responsável em remover a média do vetor e dividir pela variância. Dessa forma, os dados de entrada, *X_train* e *X_test*, na rede MLP serão padronizados.\n",
    "\n",
    "$$ z=\\frac{x-u}{v} $$\n",
    "\n",
    "onde\n",
    "\n",
    "$$ x=atributo;m=media;v=variancia $$"
   ]
  },
  {
   "cell_type": "code",
   "execution_count": 4,
   "id": "8f67d9a1",
   "metadata": {},
   "outputs": [],
   "source": [
    "# Cria um padronizador\n",
    "scaler = StandardScaler()\n",
    "\n",
    "# Realiza os calculos de media e variancia\n",
    "scaler.fit(X_train)\n",
    "\n",
    "# Aplica a transformacao aos dados\n",
    "X_train = scaler.transform(X_train)\n",
    "X_test = scaler.transform(X_test)"
   ]
  },
  {
   "cell_type": "markdown",
   "id": "99e0a2ca",
   "metadata": {},
   "source": [
    "### Inicialização das Redes MLP (Scikit learn e PPGEE)\n",
    "\n",
    "\n",
    "Como método de validação, foi implementado uma rede neural MLP utilizando a biblioteca scikit learn e uma utilizando a biblioteca desenvolvida para a disciplina."
   ]
  },
  {
   "cell_type": "markdown",
   "id": "fa45f1eb",
   "metadata": {},
   "source": [
    "**Rede Neural MLP - Scikit Learn**"
   ]
  },
  {
   "cell_type": "code",
   "execution_count": 5,
   "id": "8125e060",
   "metadata": {},
   "outputs": [],
   "source": [
    "# Criacao da rede com todos os parametros necessarios\n",
    "skl_mlp = MLPClassifier(\n",
    "    activation='logistic', \n",
    "    learning_rate_init=0.4, \n",
    "    hidden_layer_sizes=(30))\n",
    "\n",
    "# Treinamento da rede criada\n",
    "skl_mlp.fit(X_train,y_train);"
   ]
  },
  {
   "cell_type": "markdown",
   "id": "6ec34267",
   "metadata": {},
   "source": [
    "**Rede Neural MLP - PPGEE**\n",
    "\n",
    "A biblioteca da rede MLP desenvolvida está presente no Apêndice 1, do documento."
   ]
  },
  {
   "cell_type": "code",
   "execution_count": 6,
   "id": "547f6014",
   "metadata": {},
   "outputs": [],
   "source": [
    "# Adaptando a entrada e saída a nossa biblioteca\n",
    "X = X_train\n",
    "y = np.array([[c] for c in y_train])\n",
    "\n",
    "# Configuracao da rede\n",
    "layers = [30,30,1]\n",
    "epochs = 10000        \n",
    "eta = 0.4\n",
    "\n",
    "# # Criacao da rede com todos os parametros necessarios\n",
    "ppgee_mlp = Neural_Network(layers=layers, epochs=epochs, eta=eta)\n",
    "\n",
    "# Treinamento da rede criada\n",
    "ppgee_mlp.train(X, y)"
   ]
  },
  {
   "cell_type": "markdown",
   "id": "5ecd6274",
   "metadata": {},
   "source": [
    "### Resultados\n",
    "\n"
   ]
  },
  {
   "cell_type": "markdown",
   "id": "ec3d0ec1",
   "metadata": {},
   "source": [
    "São apresentados os gráficos de evolução do erro médio quadrático durante as 200 épocas, nos dois modelos de rede MLP e então, são apresentados os gráficos de evolução da rede."
   ]
  },
  {
   "cell_type": "code",
   "execution_count": 7,
   "id": "2bd1a1f1",
   "metadata": {},
   "outputs": [
    {
     "data": {
      "text/plain": [
       "<matplotlib.legend.Legend at 0x7f4b7c435e20>"
      ]
     },
     "execution_count": 7,
     "metadata": {},
     "output_type": "execute_result"
    },
    {
     "data": {
      "image/png": "[encoded data removed]",
      "text/plain": [
       "<Figure size 1152x216 with 2 Axes>"
      ]
     },
     "metadata": {},
     "output_type": "display_data"
    }
   ],
   "source": [
    "fig, ax = plt.subplots(1, 2, figsize=(16,3))\n",
    "\n",
    "ax[0].set_title(f\"Erro quadrático Médio durantes as {epochs} Épocas - PPGEE\")\n",
    "ax[0].set_xlabel(\"Épocas\")\n",
    "ax[0].set_ylabel(\"RMS\")\n",
    "ax[0].plot(ppgee_mlp.get_rms(), linestyle='--', marker='o', markersize = 4)\n",
    "ax[0].legend(['RMS'])\n",
    "\n",
    "ax[1].set_title(f\"Erro quadrático Médio durantes as {epochs} Épocas - Scikit learn\")\n",
    "ax[1].set_xlabel(\"Épocas\")\n",
    "ax[1].set_ylabel(\"RMS\")\n",
    "ax[1].plot(skl_mlp.loss_curve_, linestyle='--', marker='o', markersize = 4)\n",
    "ax[1].legend(['RMS'])"
   ]
  },
  {
   "cell_type": "markdown",
   "id": "6480dff4",
   "metadata": {},
   "source": [
    "Também é apresentado o gráfico comparativo entre saída desejada versus saída da rede. Foram gerados 4 gráficos, sendo os dois superiores, gráficos com dados de testes aplicados as duas redes MLP, e os dois inferiores gráficos com dados de treinamento."
   ]
  },
  {
   "cell_type": "code",
   "execution_count": 8,
   "id": "440a2423",
   "metadata": {},
   "outputs": [
    {
     "data": {
      "text/plain": [
       "<matplotlib.legend.Legend at 0x7f4b7c24ba30>"
      ]
     },
     "execution_count": 8,
     "metadata": {},
     "output_type": "execute_result"
    },
    {
     "data": {
      "image/png": "[encoded data removed]",
      "text/plain": [
       "<Figure size 1152x648 with 4 Axes>"
      ]
     },
     "metadata": {},
     "output_type": "display_data"
    }
   ],
   "source": [
    "ppgee_predictions = np.round(ppgee_mlp.forward(X_test))\n",
    "skl_predictions = skl_mlp.predict(X_test)\n",
    "\n",
    "fig, ax = plt.subplots(2, 2, figsize=(16,9))\n",
    "fig.subplots_adjust(hspace=0.3)\n",
    "ax[0][0].plot(y_test, 'o', color='c', label=\"saída desejada\")\n",
    "ax[0][0].set_title(\"Teste - Resposta da Rede MLP - PPGEE\")\n",
    "ax[0][0].set_xlabel(\"Épocas\")\n",
    "ax[0][0].set_ylabel(\"Saída\")\n",
    "ax[0][0].plot(ppgee_predictions, 'x', color='b', label='saída da rede')\n",
    "ax[0][0].legend()\n",
    "\n",
    "ax[0][1].plot(y_test, 'o', color='c', label=\"saída desejada\")\n",
    "ax[0][1].set_title(\"Teste - Resposta da Rede MLP - Scikit Learn\")\n",
    "ax[0][1].set_xlabel(\"Épocas\")\n",
    "ax[0][1].set_ylabel(\"Saída\")\n",
    "ax[0][1].plot(skl_predictions, 'x', color='b',  label='saída da rede')\n",
    "ax[0][1].legend()\n",
    "\n",
    "ppgee_predictions = np.round(ppgee_mlp.forward(X_train))\n",
    "skl_predictions = skl_mlp.predict(X_train)\n",
    "\n",
    "ax[1][0].plot(y_test, 'o', color='c', label=\"saída desejada\")\n",
    "ax[1][0].set_title(\"Treinamento - Resposta da Rede MLP - Scikit Learn\")\n",
    "ax[1][0].set_xlabel(\"Épocas\")\n",
    "ax[1][0].set_ylabel(\"Saída\")\n",
    "ax[1][0].plot(skl_predictions, 'x', color='b', label='saída da rede')\n",
    "ax[1][0].legend()\n",
    "\n",
    "ax[1][1].plot(y_test, 'o', color='c', label=\"saída desejada\")\n",
    "ax[1][1].set_title(\"Treinamento - Resposta da Rede MLP - Scikit Learn\")\n",
    "ax[1][1].set_xlabel(\"Épocas\")\n",
    "ax[1][1].set_ylabel(\"Saída\")\n",
    "ax[1][1].plot(skl_predictions, 'x', color='b', label='saída da rede')\n",
    "ax[1][1].legend()"
   ]
  },
  {
   "cell_type": "markdown",
   "id": "9f823a3c",
   "metadata": {},
   "source": [
    "### Métricas avaliativas da Rede\n",
    "\n",
    "Neste tópico, é feito a comparação entre as duas redes MLP (scikit learn e PPGEE) utilizando as métricas accuracy, precision e f1 score."
   ]
  },
  {
   "cell_type": "code",
   "execution_count": 9,
   "id": "7e2bc060",
   "metadata": {},
   "outputs": [
    {
     "name": "stdout",
     "output_type": "stream",
     "text": [
      "Matriz de confusão( vn,fp, fn, vp ): [49  1  1 92]\n",
      "Acurácia: 0.986013986013986\n",
      "Precisão: 0.989247311827957\n",
      "F1 Score: 0.989247311827957\n"
     ]
    }
   ],
   "source": [
    "ppgee_predictions = np.round(ppgee_mlp.forward(X_test))\n",
    "skl_predictions = skl_mlp.predict(X_test)\n",
    "\n",
    "# tn, fp, fn, tp\n",
    "matrix_confusion = confusion_matrix(y_test,skl_predictions).ravel()\n",
    "print(f\"Matriz de confusão( vn,fp, fn, vp ): {matrix_confusion}\")\n",
    "\n",
    "print(f\"Acurácia: {accuracy_score(y_test,skl_predictions)}\")\n",
    "print(f\"Precisão: {precision_score(y_test,skl_predictions)}\")\n",
    "print(f\"F1 Score: {f1_score(y_test,skl_predictions)}\")"
   ]
  },
  {
   "cell_type": "code",
   "execution_count": 10,
   "id": "3a49fa4f",
   "metadata": {},
   "outputs": [
    {
     "name": "stdout",
     "output_type": "stream",
     "text": [
      "Matriz de confusão( vn,fp, fn, vp ): [49  1  2 91]\n",
      "Acurácia: 0.9790209790209791\n",
      "Precisão: 0.9891304347826086\n",
      "F1 Score: 0.9837837837837837\n"
     ]
    }
   ],
   "source": [
    "# tn, fp, fn, tp\n",
    "matrix_confusion = confusion_matrix(y_test,ppgee_predictions).ravel()\n",
    "print(f\"Matriz de confusão( vn,fp, fn, vp ): {matrix_confusion}\")\n",
    "\n",
    "print(f\"Acurácia: {accuracy_score(y_test,ppgee_predictions)}\")\n",
    "print(f\"Precisão: {precision_score(y_test,ppgee_predictions)}\")\n",
    "print(f\"F1 Score: {f1_score(y_test,ppgee_predictions)}\")"
   ]
  },
  {
   "cell_type": "markdown",
   "id": "c67767ec",
   "metadata": {},
   "source": [
    "### Pesos da Rede\n",
    "\n",
    "Por fim, os pesos atualizados são salvos em dois arquivos:\n",
    "\n",
    "- Entrada --> Oculta: w1.txt\n",
    "\n",
    "- Oculta --> Saída: w2.txt"
   ]
  },
  {
   "cell_type": "code",
   "execution_count": 11,
   "id": "c2315d1f",
   "metadata": {},
   "outputs": [],
   "source": [
    "ppgee_mlp.saveWeights()"
   ]
  },
  {
   "cell_type": "markdown",
   "id": "ad90847f",
   "metadata": {},
   "source": [
    "## Conclusão\n",
    "\n",
    "O algoritmo desenvolvido para a disciplina mostra-se eficiênte pois é visível a aprendizagem ao analisarmos a evolução do erro quadrático médio. Assim como as métricas de acurácia, precisão, F1 Score e matriz de confusão, mostra que a rede desenvolvida pode ser aplicada em ambientes que aceitem estas métricas, ficando responsável ao especialista da área da saúde definir a aceitabilidade dos dados. Por fim, a comparação entre aplicações mostra-se como um método eficiênte para validação do algoritmo, onde o algoritmo desenvolvido para a disciplina, em alguns casos obtém uma taxa de acerto superior ao da biblioteca, considerando as configurações apresentadas."
   ]
  }
 ],
 "metadata": {
  "kernelspec": {
   "display_name": "Python 3",
   "language": "python",
   "name": "python3"
  },
  "language_info": {
   "codemirror_mode": {
    "name": "ipython",
    "version": 3
   },
   "file_extension": ".py",
   "mimetype": "text/x-python",
   "name": "python",
   "nbconvert_exporter": "python",
   "pygments_lexer": "ipython3",
   "version": "3.9.2"
  }
 },
 "nbformat": 4,
 "nbformat_minor": 5
}
